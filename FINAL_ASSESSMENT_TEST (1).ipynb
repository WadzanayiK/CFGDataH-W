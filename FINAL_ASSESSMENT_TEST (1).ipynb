{
 "cells": [
  {
   "cell_type": "markdown",
   "metadata": {},
   "source": [
    "## 1. PANDAS & NUMPY (25 points)\n",
    "\n",
    "- complete 10 questions below\n",
    "- for Pandas exercise, please use provided __sales_reps_data.csv__ file\n",
    "- it would be a good idea to familiarise yourself with the .csv file first. \n"
   ]
  },
  {
   "cell_type": "code",
   "execution_count": 1,
   "metadata": {},
   "outputs": [],
   "source": [
    "# 1. load sales_reps_data.csv file with Pandas as dataframe\n",
    "import pandas as pd\n",
    "dataframe= pd.read_csv(\"sales_reps_data.csv\")\n"
   ]
  },
  {
   "cell_type": "code",
   "execution_count": 3,
   "metadata": {},
   "outputs": [
    {
     "name": "stdout",
     "output_type": "stream",
     "text": [
      "         date   region sales_rep    item  qty  unit_price   total\n",
      "0  01/06/2019     East     Jones  Pencil   95        1.99  189.05\n",
      "1     1/23/19  Central    Kivell  Binder   50       19.99  999.50\n",
      "2  02/09/2019  Central   Jardine  Pencil   36        4.99  179.64\n",
      "3     2/26/19  Central      Gill     Pen   27       19.99  539.73\n",
      "4     3/15/19     West   Sorvino  Pencil   56        2.99  167.44           date   region sales_rep    item  qty  unit_price    total\n",
      "38    10/14/20     West  Thompson  Binder   57       19.99  1139.43\n",
      "39    10/31/20  Central   Andrews  Pencil   14        1.29    18.06\n",
      "40    11/17/20  Central   Jardine  Binder   11        4.99    54.89\n",
      "41  12/04/2020  Central   Jardine  Binder   94       19.99  1879.06\n",
      "42    12/21/20  Central   Andrews  Binder   28        4.99   139.72\n"
     ]
    }
   ],
   "source": [
    "# 2. print the first and last five rows\n",
    "print(dataframe.head(),dataframe.tail())"
   ]
  },
  {
   "cell_type": "code",
   "execution_count": 6,
   "metadata": {},
   "outputs": [
    {
     "data": {
      "text/html": [
       "<div>\n",
       "<style scoped>\n",
       "    .dataframe tbody tr th:only-of-type {\n",
       "        vertical-align: middle;\n",
       "    }\n",
       "\n",
       "    .dataframe tbody tr th {\n",
       "        vertical-align: top;\n",
       "    }\n",
       "\n",
       "    .dataframe thead th {\n",
       "        text-align: right;\n",
       "    }\n",
       "</style>\n",
       "<table border=\"1\" class=\"dataframe\">\n",
       "  <thead>\n",
       "    <tr style=\"text-align: right;\">\n",
       "      <th></th>\n",
       "      <th>qty</th>\n",
       "      <th>unit_price</th>\n",
       "      <th>total</th>\n",
       "    </tr>\n",
       "    <tr>\n",
       "      <th>sales_rep</th>\n",
       "      <th></th>\n",
       "      <th></th>\n",
       "      <th></th>\n",
       "    </tr>\n",
       "  </thead>\n",
       "  <tbody>\n",
       "    <tr>\n",
       "      <th>Kivell</th>\n",
       "      <td>193</td>\n",
       "      <td>173.93</td>\n",
       "      <td>3109.44</td>\n",
       "    </tr>\n",
       "    <tr>\n",
       "      <th>Parent</th>\n",
       "      <td>170</td>\n",
       "      <td>55.97</td>\n",
       "      <td>3102.30</td>\n",
       "    </tr>\n",
       "    <tr>\n",
       "      <th>Jardine</th>\n",
       "      <td>281</td>\n",
       "      <td>39.95</td>\n",
       "      <td>2812.19</td>\n",
       "    </tr>\n",
       "    <tr>\n",
       "      <th>Jones</th>\n",
       "      <td>396</td>\n",
       "      <td>55.92</td>\n",
       "      <td>2363.04</td>\n",
       "    </tr>\n",
       "    <tr>\n",
       "      <th>Gill</th>\n",
       "      <td>213</td>\n",
       "      <td>40.55</td>\n",
       "      <td>1749.87</td>\n",
       "    </tr>\n",
       "    <tr>\n",
       "      <th>Smith</th>\n",
       "      <td>156</td>\n",
       "      <td>141.29</td>\n",
       "      <td>1641.43</td>\n",
       "    </tr>\n",
       "    <tr>\n",
       "      <th>Morgan</th>\n",
       "      <td>173</td>\n",
       "      <td>26.47</td>\n",
       "      <td>1387.77</td>\n",
       "    </tr>\n",
       "    <tr>\n",
       "      <th>Sorvino</th>\n",
       "      <td>142</td>\n",
       "      <td>299.97</td>\n",
       "      <td>1283.61</td>\n",
       "    </tr>\n",
       "    <tr>\n",
       "      <th>Thompson</th>\n",
       "      <td>89</td>\n",
       "      <td>21.98</td>\n",
       "      <td>1203.11</td>\n",
       "    </tr>\n",
       "    <tr>\n",
       "      <th>Howard</th>\n",
       "      <td>125</td>\n",
       "      <td>6.98</td>\n",
       "      <td>536.75</td>\n",
       "    </tr>\n",
       "    <tr>\n",
       "      <th>Andrews</th>\n",
       "      <td>183</td>\n",
       "      <td>10.26</td>\n",
       "      <td>438.37</td>\n",
       "    </tr>\n",
       "  </tbody>\n",
       "</table>\n",
       "</div>"
      ],
      "text/plain": [
       "           qty  unit_price    total\n",
       "sales_rep                          \n",
       "Kivell     193      173.93  3109.44\n",
       "Parent     170       55.97  3102.30\n",
       "Jardine    281       39.95  2812.19\n",
       "Jones      396       55.92  2363.04\n",
       "Gill       213       40.55  1749.87\n",
       "Smith      156      141.29  1641.43\n",
       "Morgan     173       26.47  1387.77\n",
       "Sorvino    142      299.97  1283.61\n",
       "Thompson    89       21.98  1203.11\n",
       "Howard     125        6.98   536.75\n",
       "Andrews    183       10.26   438.37"
      ]
     },
     "execution_count": 6,
     "metadata": {},
     "output_type": "execute_result"
    }
   ],
   "source": [
    "#3. Find names of the sales reps who sold the most items (qty) and what are those items\n",
    "\n",
    "dataframe.groupby([\"sales_rep\"]).sum().sort_values(\"total\", ascending=False)"
   ]
  },
  {
   "cell_type": "code",
   "execution_count": null,
   "metadata": {},
   "outputs": [],
   "source": [
    "#Kivell sold the most items,Pencils."
   ]
  },
  {
   "cell_type": "code",
   "execution_count": 13,
   "metadata": {},
   "outputs": [
    {
     "name": "stdout",
     "output_type": "stream",
     "text": [
      "         date region sales_rep    item  qty  unit_price   total\n",
      "0  01/06/2019   East     Jones  Pencil   95        1.99  189.05\n"
     ]
    }
   ],
   "source": [
    "# 4. Print details(records) for sales rep called 'Jones'\n",
    "print(dataframe.loc[[0]])\n"
   ]
  },
  {
   "cell_type": "code",
   "execution_count": 23,
   "metadata": {},
   "outputs": [
    {
     "name": "stdout",
     "output_type": "stream",
     "text": [
      "275.0\n"
     ]
    }
   ],
   "source": [
    " #Get each item's highest price\n",
    "newframe=dataframe['unit_price'].max()\n",
    "print(newframe)"
   ]
  },
  {
   "cell_type": "code",
   "execution_count": 46,
   "metadata": {},
   "outputs": [
    {
     "ename": "AttributeError",
     "evalue": "'DataFrameGroupBy' object has no attribute 'average'",
     "output_type": "error",
     "traceback": [
      "\u001b[1;31m---------------------------------------------------------------------------\u001b[0m",
      "\u001b[1;31mAttributeError\u001b[0m                            Traceback (most recent call last)",
      "Input \u001b[1;32mIn [46]\u001b[0m, in \u001b[0;36m<cell line: 2>\u001b[1;34m()\u001b[0m\n\u001b[0;32m      1\u001b[0m \u001b[38;5;66;03m# 6. Find the average price of each unit\u001b[39;00m\n\u001b[1;32m----> 2\u001b[0m group \u001b[38;5;241m=\u001b[39m \u001b[43mdataframe\u001b[49m\u001b[38;5;241;43m.\u001b[39;49m\u001b[43mgroupby\u001b[49m\u001b[43m(\u001b[49m\u001b[43m[\u001b[49m\u001b[38;5;124;43m\"\u001b[39;49m\u001b[38;5;124;43mitem\u001b[39;49m\u001b[38;5;124;43m\"\u001b[39;49m\u001b[43m,\u001b[49m\u001b[38;5;124;43m\"\u001b[39;49m\u001b[38;5;124;43munit_price\u001b[39;49m\u001b[38;5;124;43m\"\u001b[39;49m\u001b[43m]\u001b[49m\u001b[43m)\u001b[49m\u001b[38;5;241;43m.\u001b[39;49m\u001b[43maverage\u001b[49m()\n",
      "File \u001b[1;32m~\\anaconda3\\lib\\site-packages\\pandas\\core\\groupby\\groupby.py:904\u001b[0m, in \u001b[0;36mGroupBy.__getattr__\u001b[1;34m(self, attr)\u001b[0m\n\u001b[0;32m    901\u001b[0m \u001b[38;5;28;01mif\u001b[39;00m attr \u001b[38;5;129;01min\u001b[39;00m \u001b[38;5;28mself\u001b[39m\u001b[38;5;241m.\u001b[39mobj:\n\u001b[0;32m    902\u001b[0m     \u001b[38;5;28;01mreturn\u001b[39;00m \u001b[38;5;28mself\u001b[39m[attr]\n\u001b[1;32m--> 904\u001b[0m \u001b[38;5;28;01mraise\u001b[39;00m \u001b[38;5;167;01mAttributeError\u001b[39;00m(\n\u001b[0;32m    905\u001b[0m     \u001b[38;5;124mf\u001b[39m\u001b[38;5;124m\"\u001b[39m\u001b[38;5;124m'\u001b[39m\u001b[38;5;132;01m{\u001b[39;00m\u001b[38;5;28mtype\u001b[39m(\u001b[38;5;28mself\u001b[39m)\u001b[38;5;241m.\u001b[39m\u001b[38;5;18m__name__\u001b[39m\u001b[38;5;132;01m}\u001b[39;00m\u001b[38;5;124m'\u001b[39m\u001b[38;5;124m object has no attribute \u001b[39m\u001b[38;5;124m'\u001b[39m\u001b[38;5;132;01m{\u001b[39;00mattr\u001b[38;5;132;01m}\u001b[39;00m\u001b[38;5;124m'\u001b[39m\u001b[38;5;124m\"\u001b[39m\n\u001b[0;32m    906\u001b[0m )\n",
      "\u001b[1;31mAttributeError\u001b[0m: 'DataFrameGroupBy' object has no attribute 'average'"
     ]
    }
   ],
   "source": [
    "# 6. Find the average price of each unit\n",
    "group = dataframe.groupby([\"item\",\"unit_price\"]).average()\n"
   ]
  },
  {
   "cell_type": "code",
   "execution_count": 24,
   "metadata": {},
   "outputs": [
    {
     "name": "stdout",
     "output_type": "stream",
     "text": [
      "                 qty  unit_price\n",
      "region  total                   \n",
      "Central 9.03       7        1.29\n",
      "        18.06     14        1.29\n",
      "        54.89     11        4.99\n",
      "        68.37     53        1.29\n",
      "        86.43     67        1.29\n",
      "        131.34    66        1.99\n",
      "        139.72    28        4.99\n",
      "        149.25    75        1.99\n",
      "        179.64    36        4.99\n",
      "        249.50    50        4.99\n",
      "        250.00     2      125.00\n",
      "        251.72    28        8.99\n",
      "        413.54    46        8.99\n",
      "        449.10   180        9.98\n",
      "        479.04    96        4.99\n",
      "        539.73    27       19.99\n",
      "        625.00     5      125.00\n",
      "        686.95    55       12.49\n",
      "        719.20    80        8.99\n",
      "        999.50    50       19.99\n",
      "        1005.90   42       23.95\n",
      "        1305.00   87       15.00\n",
      "        1879.06   94       19.99\n",
      "East    19.96      4        4.99\n",
      "        57.71     29        1.99\n",
      "        174.65    35        4.99\n",
      "        189.05    95        1.99\n",
      "        255.84    16       15.99\n",
      "        299.40    60        4.99\n",
      "        299.85    15       19.99\n",
      "        309.38    62        4.99\n",
      "        479.04    96        4.99\n",
      "        539.40    60        8.99\n",
      "        575.36    64        8.99\n",
      "        1183.26   74       15.99\n",
      "        1619.19   81       19.99\n",
      "West    63.68     32        1.99\n",
      "        139.93     7       19.99\n",
      "        151.24    76        1.99\n",
      "        167.44    56        2.99\n",
      "        825.00     3      275.00\n",
      "        1139.43   57       19.99\n"
     ]
    }
   ],
   "source": [
    "# 7. Sort all sales records by 'region' and 'total' columns\n",
    "group = dataframe.groupby([\"region\",\"total\"]).sum()\n",
    "print(group)"
   ]
  },
  {
   "cell_type": "code",
   "execution_count": 28,
   "metadata": {},
   "outputs": [
    {
     "name": "stdout",
     "output_type": "stream",
     "text": [
      "[[200 220 240]\n",
      " [260 280 300]\n",
      " [320 340 360]\n",
      " [380 400 420]]\n"
     ]
    }
   ],
   "source": [
    "# 8.  Using NumPy create a 4X3 integer array from a range between 200 to 440  \n",
    "# such that the difference between each element is 20\n",
    "import numpy\n",
    "sampleArray = numpy.arange(200, 440, 20)\n",
    "sampleArray = sampleArray.reshape(4,3)\n",
    "print (sampleArray)"
   ]
  },
  {
   "cell_type": "code",
   "execution_count": 26,
   "metadata": {},
   "outputs": [
    {
     "name": "stdout",
     "output_type": "stream",
     "text": [
      "[0, 20, 40, 60, 80, 100, 120, 140, 160, 180, 200]\n"
     ]
    }
   ],
   "source": [
    "# 9. Create a new array like --> array([  0,  10,  20,  30,  40,  50,  60,  70,  80,  90, 100])\n",
    "# then multiply every element in the array by 2.\n",
    "numbers = [0,  10,  20,  30,  40,  50,  60,  70,  80,  90, 100]\n",
    "multiplied = []\n",
    "for number in numbers:\n",
    "    multiplied.append(number * 2)\n",
    "print(multiplied)\n",
    "\n"
   ]
  },
  {
   "cell_type": "code",
   "execution_count": 25,
   "metadata": {},
   "outputs": [
    {
     "name": "stdout",
     "output_type": "stream",
     "text": [
      "5\n",
      "11\n",
      "2\n",
      "3\n",
      "4\n",
      "8\n",
      "14\n",
      "15\n"
     ]
    }
   ],
   "source": [
    "# 10. Find the unique elements in an array [5,5,11,11,2,3,4,8,14,14,15,5]\n",
    "def printDistinct(arr, n):\n",
    "    for i in range(0, n):\n",
    "        d = 0\n",
    "        for j in range(0, i):\n",
    "            if (arr[i] == arr[j]):\n",
    "                d = 1\n",
    "                break\n",
    " \n",
    "        if (d == 0):\n",
    "            print(arr[i])\n",
    "     \n",
    "\n",
    "arr = [5,5,11,11,2,3,4,8,14,14,15,5]\n",
    "n = len(arr)\n",
    "printDistinct(arr, n)\n"
   ]
  },
  {
   "cell_type": "markdown",
   "metadata": {},
   "source": [
    "## 2. VISUALIZATION MATPLOTLIB (25 points / 15 points)\n",
    "\n",
    "\n",
    "#### 25 points\n",
    "- use already familiar __sales_reps_data.csv__ file \n",
    "- you need to process your data using grouby manupilation to prepare it for plotting (follow prompts below).\n",
    "- you can see how the data should be shaped by checking __sales_resp_data_aggregated.csv__\n",
    "- build a Pie Chart as described below. \n",
    "\n",
    "#### 15 points\n",
    "- if you are not able to perform groupby operations to prepare data for plotting, then use __sales_resp_data_aggregated.csv__ file.\n",
    "- build a Pie Chart as described below. \n"
   ]
  },
  {
   "cell_type": "code",
   "execution_count": 39,
   "metadata": {},
   "outputs": [
    {
     "name": "stdout",
     "output_type": "stream",
     "text": [
      "   sales_rep  total_amount  Unnamed: 2\n",
      "0    Andrews        438.37         NaN\n",
      "1       Gill       1749.87         NaN\n",
      "2     Howard        536.75         NaN\n",
      "3    Jardine       2812.19         NaN\n",
      "4      Jones       2363.04         NaN\n",
      "5     Kivell       3109.44         NaN\n",
      "6     Morgan       1387.77         NaN\n",
      "7     Parent       3102.30         NaN\n",
      "8      Smith       1641.43         NaN\n",
      "9    Sorvino       1283.61         NaN\n",
      "10  Thompson       1203.11         NaN\n"
     ]
    }
   ],
   "source": [
    "# 1. load  sales_reps_data.csv file to a dataframe\n",
    "\n",
    "\n",
    "# 2. Prepare a new subset from the original data, aggregating sales records by sales representative and summing up\n",
    "# their total amount of sales (check sales_resp_data_aggregated.csv file to see what needs to be achieved)\n",
    "\n",
    "\"\"\"\n",
    "HINT: How to rename a column? \n",
    "\n",
    " - sometimes when you group by column A and sum up colum B values, you lose the name of column B\n",
    " - below is the example of how to name the column B after group by\n",
    " - it is the equivalent of SQL: SELECT columnA, sum(columnB) as 'Total'\n",
    "\n",
    "Example:\n",
    "  new_df = <your groupby and sum code goes here>.reset_index(name ='total_amount')\n",
    "\n",
    "\"\"\"\n",
    "\n",
    "data= pd.read_csv(\"sales_reps_data_aggregated (2).csv\")\n",
    "print(data)"
   ]
  },
  {
   "cell_type": "code",
   "execution_count": 41,
   "metadata": {},
   "outputs": [
    {
     "name": "stdout",
     "output_type": "stream",
     "text": [
      "0      438.37\n",
      "1     1749.87\n",
      "2      536.75\n",
      "3     2812.19\n",
      "4     2363.04\n",
      "5     3109.44\n",
      "6     1387.77\n",
      "7     3102.30\n",
      "8     1641.43\n",
      "9     1283.61\n",
      "10    1203.11\n",
      "Name: total_amount, dtype: float64\n"
     ]
    }
   ],
   "source": [
    "import matplotlib\n",
    "import matplotlib.pyplot as plt\n",
    "\n",
    "data2 = data.total_amount\n",
    "print(data2)"
   ]
  },
  {
   "cell_type": "code",
   "execution_count": 42,
   "metadata": {},
   "outputs": [
    {
     "data": {
      "text/plain": [
       "<matplotlib.legend.Legend at 0x171eb047f10>"
      ]
     },
     "execution_count": 42,
     "metadata": {},
     "output_type": "execute_result"
    },
    {
     "data": {
      "image/png": "[encoded data removed]",
      "text/plain": [
       "<Figure size 720x432 with 1 Axes>"
      ]
     },
     "metadata": {},
     "output_type": "display_data"
    }
   ],
   "source": [
    "plt.figure(figsize=(10,6))\n",
    "plt.title('data2')\n",
    "plt.pie(data2,startangle=150,radius = 1)\n",
    "plt.legend(labels=data2.index,bbox_to_anchor=(1.02, 1), loc='upper left', borderaxespad=0)\n"
   ]
  },
  {
   "cell_type": "code",
   "execution_count": null,
   "metadata": {},
   "outputs": [],
   "source": [
    "# 3. Using matplotlib create a Pie plot to show proportion of sales contribution to the total sales by each sales rep. \n",
    "\n",
    "\n"
   ]
  },
  {
   "cell_type": "code",
   "execution_count": null,
   "metadata": {},
   "outputs": [],
   "source": []
  },
  {
   "cell_type": "markdown",
   "metadata": {},
   "source": [
    "## 3. MACHINE LEARNING QUESTIONS (25 points)\n",
    "\n",
    "- this is purely theoretical task, NO CODING required\n",
    "- answer 5 questions below using Markdown cells to write your answers\n",
    "- note that you only need to provide brief answers to each question in your own words and examples where applicable. \n",
    "\n"
   ]
  },
  {
   "cell_type": "code",
   "execution_count": null,
   "metadata": {},
   "outputs": [],
   "source": []
  },
  {
   "cell_type": "code",
   "execution_count": null,
   "metadata": {},
   "outputs": [],
   "source": []
  },
  {
   "cell_type": "markdown",
   "metadata": {},
   "source": [
    "\n",
    "### Q1: What is Machine Leanring?\n",
    "\n",
    "\n",
    "### Q2: What are the key principles of 'Supervised' Machine learning?\n",
    "\n",
    "\n",
    "### Q3: With regards to Machine Learning Model Fitting, what do we mean my Underfitting and Overfitting?\n",
    "\n",
    "\n",
    "### Q4: Explain how do we ususally split data in preparation for the Machine Learning process?\n",
    "\n",
    "\n",
    "### Q5: What is SciKit?\n"
   ]
  },
  {
   "cell_type": "markdown",
   "metadata": {},
   "source": [
    "#q1Machine learning (ML) is a type of artificial intelligence (AI) that allows software applications to become more accurate at predicting outcomes without being explicitly programmed to do so.\n",
    "q"
   ]
  },
  {
   "cell_type": "markdown",
   "metadata": {},
   "source": [
    "q2\n",
    "● Machine gets unlabeled input data.\n",
    "● Machine infers hidden structure\n",
    "from data.\n",
    "● Machine returns the structure and\n",
    "classifies data according to that\n",
    "structure."
   ]
  },
  {
   "cell_type": "markdown",
   "metadata": {},
   "source": [
    "q3\n",
    "A model is underfitting the training data when the model performs poorly on the training data. This is because the model is unable to capture the relationship between the input examples and the target values. A model is overfitting the training data when the model performs well on the training data but does not perform well on the evaluation data. This is because the model is memorizing the data it has seen and is unable to generalize to unseen examples"
   ]
  },
  {
   "cell_type": "markdown",
   "metadata": {},
   "source": [
    "q4\n",
    "Raw data is split into 2 partitions: training and testing sets.training set is used to develop a model and testing data is used to check the correctness of the system\n"
   ]
  },
  {
   "cell_type": "markdown",
   "metadata": {},
   "source": [
    "q5\n",
    "Scikit-learn is a machine learning library for Python. It features several regression, classification and clustering algorithms including SVMs, gradient boosting, k-means, random forests and DBSCAN. It is designed to work with Python Numpy and SciPy"
   ]
  },
  {
   "cell_type": "markdown",
   "metadata": {},
   "source": [
    "## 4. DATA ANALYSIS NARRATIVE (25 points)\n",
    "\n",
    "- this is purely theoretical task, NO CODING required\n",
    "- please use provided PDF file DATA_FINAL_ASSESSMENT_Q4.pdf with the actual task descritpion and graphs /plots\n",
    "- write your answers here in the Jyputer Notebook using a markdown cell. \n",
    "\n",
    "\n"
   ]
  },
  {
   "cell_type": "markdown",
   "metadata": {},
   "source": [
    "We have a data set with people of an average age of 38 and an average income of $60 000\n",
    "the dataset has more females than males\n",
    "as shown by the histogram,most of the clients are aged around 30,the least age is about 65.\n",
    "at ages 20 and 70 we have more males and women aged 30 and 50 frequent more\n",
    "most customers earn between $55000 and $85000\n",
    "from the distribution of income ,it looks like the shop is frequented by more female high earners.\n",
    "no correlation can be deduced from the scatter plot,except that most customers earn between $40 000 and $85000\n",
    "There is a negative correlation between age and spending score\n",
    "strong positive correlation between customerid and annual income\n",
    "The lower the age,the higher the spending score\n",
    "For women there is a high negative correlation between spending score and age,thenegative correlation is higher for men.\n",
    "regression shows a negative correlation between age and spending score for women\n",
    "The higher the income,the higher the spending score\n",
    "\n"
   ]
  }
 ],
 "metadata": {
  "kernelspec": {
   "display_name": "Python 3 (ipykernel)",
   "language": "python",
   "name": "python3"
  },
  "language_info": {
   "codemirror_mode": {
    "name": "ipython",
    "version": 3
   },
   "file_extension": ".py",
   "mimetype": "text/x-python",
   "name": "python",
   "nbconvert_exporter": "python",
   "pygments_lexer": "ipython3",
   "version": "3.9.12"
  }
 },
 "nbformat": 4,
 "nbformat_minor": 4
}
