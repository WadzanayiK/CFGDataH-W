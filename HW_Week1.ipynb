{
 "cells": [
  {
   "cell_type": "code",
   "execution_count": 1,
   "id": "0436a853",
   "metadata": {},
   "outputs": [],
   "source": [
    "from pandas_datareader import data\n",
    "import matplotlib.pyplot as plt\n",
    "import pandas as pd\n",
    "from datetime import datetime"
   ]
  },
  {
   "cell_type": "code",
   "execution_count": 19,
   "id": "136f8fe3",
   "metadata": {},
   "outputs": [],
   "source": [
    "Tickers = ['GOOG','MSFT']\n",
    "start_date = '2020-01-01'\n",
    "end_date = '2021-01-01'"
   ]
  },
  {
   "cell_type": "code",
   "execution_count": 20,
   "id": "53fc7b6f",
   "metadata": {},
   "outputs": [],
   "source": [
    "stock_data = data.DataReader(Tickers,'yahoo',start_date,end_date)"
   ]
  },
  {
   "cell_type": "code",
   "execution_count": 21,
   "id": "71c34957",
   "metadata": {},
   "outputs": [
    {
     "data": {
      "text/html": [
       "<div>\n",
       "<style scoped>\n",
       "    .dataframe tbody tr th:only-of-type {\n",
       "        vertical-align: middle;\n",
       "    }\n",
       "\n",
       "    .dataframe tbody tr th {\n",
       "        vertical-align: top;\n",
       "    }\n",
       "\n",
       "    .dataframe thead tr th {\n",
       "        text-align: left;\n",
       "    }\n",
       "\n",
       "    .dataframe thead tr:last-of-type th {\n",
       "        text-align: right;\n",
       "    }\n",
       "</style>\n",
       "<table border=\"1\" class=\"dataframe\">\n",
       "  <thead>\n",
       "    <tr>\n",
       "      <th>Attributes</th>\n",
       "      <th colspan=\"2\" halign=\"left\">Adj Close</th>\n",
       "      <th colspan=\"2\" halign=\"left\">Close</th>\n",
       "      <th colspan=\"2\" halign=\"left\">High</th>\n",
       "      <th colspan=\"2\" halign=\"left\">Low</th>\n",
       "      <th colspan=\"2\" halign=\"left\">Open</th>\n",
       "      <th colspan=\"2\" halign=\"left\">Volume</th>\n",
       "    </tr>\n",
       "    <tr>\n",
       "      <th>Symbols</th>\n",
       "      <th>GOOG</th>\n",
       "      <th>MSFT</th>\n",
       "      <th>GOOG</th>\n",
       "      <th>MSFT</th>\n",
       "      <th>GOOG</th>\n",
       "      <th>MSFT</th>\n",
       "      <th>GOOG</th>\n",
       "      <th>MSFT</th>\n",
       "      <th>GOOG</th>\n",
       "      <th>MSFT</th>\n",
       "      <th>GOOG</th>\n",
       "      <th>MSFT</th>\n",
       "    </tr>\n",
       "    <tr>\n",
       "      <th>Date</th>\n",
       "      <th></th>\n",
       "      <th></th>\n",
       "      <th></th>\n",
       "      <th></th>\n",
       "      <th></th>\n",
       "      <th></th>\n",
       "      <th></th>\n",
       "      <th></th>\n",
       "      <th></th>\n",
       "      <th></th>\n",
       "      <th></th>\n",
       "      <th></th>\n",
       "    </tr>\n",
       "  </thead>\n",
       "  <tbody>\n",
       "    <tr>\n",
       "      <th>2020-01-02</th>\n",
       "      <td>68.368500</td>\n",
       "      <td>156.924377</td>\n",
       "      <td>68.368500</td>\n",
       "      <td>160.619995</td>\n",
       "      <td>68.406998</td>\n",
       "      <td>160.729996</td>\n",
       "      <td>67.077499</td>\n",
       "      <td>158.330002</td>\n",
       "      <td>67.077499</td>\n",
       "      <td>158.779999</td>\n",
       "      <td>28134620.0</td>\n",
       "      <td>22622100.0</td>\n",
       "    </tr>\n",
       "    <tr>\n",
       "      <th>2020-01-03</th>\n",
       "      <td>68.032997</td>\n",
       "      <td>154.970383</td>\n",
       "      <td>68.032997</td>\n",
       "      <td>158.619995</td>\n",
       "      <td>68.625000</td>\n",
       "      <td>159.949997</td>\n",
       "      <td>67.277184</td>\n",
       "      <td>158.059998</td>\n",
       "      <td>67.392998</td>\n",
       "      <td>158.320007</td>\n",
       "      <td>23740120.0</td>\n",
       "      <td>21116200.0</td>\n",
       "    </tr>\n",
       "    <tr>\n",
       "      <th>2020-01-06</th>\n",
       "      <td>69.710503</td>\n",
       "      <td>155.370956</td>\n",
       "      <td>69.710503</td>\n",
       "      <td>159.029999</td>\n",
       "      <td>69.824997</td>\n",
       "      <td>159.100006</td>\n",
       "      <td>67.500000</td>\n",
       "      <td>156.509995</td>\n",
       "      <td>67.500000</td>\n",
       "      <td>157.080002</td>\n",
       "      <td>34662980.0</td>\n",
       "      <td>20813700.0</td>\n",
       "    </tr>\n",
       "    <tr>\n",
       "      <th>2020-01-07</th>\n",
       "      <td>69.667000</td>\n",
       "      <td>153.954346</td>\n",
       "      <td>69.667000</td>\n",
       "      <td>157.580002</td>\n",
       "      <td>70.149498</td>\n",
       "      <td>159.669998</td>\n",
       "      <td>69.518997</td>\n",
       "      <td>157.320007</td>\n",
       "      <td>69.897003</td>\n",
       "      <td>159.320007</td>\n",
       "      <td>27767520.0</td>\n",
       "      <td>21634100.0</td>\n",
       "    </tr>\n",
       "    <tr>\n",
       "      <th>2020-01-08</th>\n",
       "      <td>70.216003</td>\n",
       "      <td>156.406555</td>\n",
       "      <td>70.216003</td>\n",
       "      <td>160.089996</td>\n",
       "      <td>70.579002</td>\n",
       "      <td>160.800003</td>\n",
       "      <td>69.542000</td>\n",
       "      <td>157.949997</td>\n",
       "      <td>69.603996</td>\n",
       "      <td>158.929993</td>\n",
       "      <td>30583540.0</td>\n",
       "      <td>27746500.0</td>\n",
       "    </tr>\n",
       "  </tbody>\n",
       "</table>\n",
       "</div>"
      ],
      "text/plain": [
       "Attributes  Adj Close                  Close                   High  \\\n",
       "Symbols          GOOG        MSFT       GOOG        MSFT       GOOG   \n",
       "Date                                                                  \n",
       "2020-01-02  68.368500  156.924377  68.368500  160.619995  68.406998   \n",
       "2020-01-03  68.032997  154.970383  68.032997  158.619995  68.625000   \n",
       "2020-01-06  69.710503  155.370956  69.710503  159.029999  69.824997   \n",
       "2020-01-07  69.667000  153.954346  69.667000  157.580002  70.149498   \n",
       "2020-01-08  70.216003  156.406555  70.216003  160.089996  70.579002   \n",
       "\n",
       "Attributes                    Low                   Open              \\\n",
       "Symbols           MSFT       GOOG        MSFT       GOOG        MSFT   \n",
       "Date                                                                   \n",
       "2020-01-02  160.729996  67.077499  158.330002  67.077499  158.779999   \n",
       "2020-01-03  159.949997  67.277184  158.059998  67.392998  158.320007   \n",
       "2020-01-06  159.100006  67.500000  156.509995  67.500000  157.080002   \n",
       "2020-01-07  159.669998  69.518997  157.320007  69.897003  159.320007   \n",
       "2020-01-08  160.800003  69.542000  157.949997  69.603996  158.929993   \n",
       "\n",
       "Attributes      Volume              \n",
       "Symbols           GOOG        MSFT  \n",
       "Date                                \n",
       "2020-01-02  28134620.0  22622100.0  \n",
       "2020-01-03  23740120.0  21116200.0  \n",
       "2020-01-06  34662980.0  20813700.0  \n",
       "2020-01-07  27767520.0  21634100.0  \n",
       "2020-01-08  30583540.0  27746500.0  "
      ]
     },
     "execution_count": 21,
     "metadata": {},
     "output_type": "execute_result"
    }
   ],
   "source": [
    "stock_data.to_csv()\n",
    "stock_data.head()"
   ]
  },
  {
   "cell_type": "code",
   "execution_count": 22,
   "id": "34c72335",
   "metadata": {},
   "outputs": [],
   "source": [
    "close = stock_data['Close']\n",
    "End_Of_Month = pd.date_range(start =start_date, end=end_date, freq='M')\n"
   ]
  },
  {
   "cell_type": "code",
   "execution_count": 23,
   "id": "207ddfda",
   "metadata": {},
   "outputs": [],
   "source": [
    "close = close.reindex(End_Of_Month)\n",
    "close =close.fillna(method='ffill')"
   ]
  },
  {
   "cell_type": "code",
   "execution_count": 24,
   "id": "8ba4e763",
   "metadata": {},
   "outputs": [
    {
     "data": {
      "text/html": [
       "<div>\n",
       "<style scoped>\n",
       "    .dataframe tbody tr th:only-of-type {\n",
       "        vertical-align: middle;\n",
       "    }\n",
       "\n",
       "    .dataframe tbody tr th {\n",
       "        vertical-align: top;\n",
       "    }\n",
       "\n",
       "    .dataframe thead th {\n",
       "        text-align: right;\n",
       "    }\n",
       "</style>\n",
       "<table border=\"1\" class=\"dataframe\">\n",
       "  <thead>\n",
       "    <tr style=\"text-align: right;\">\n",
       "      <th>Symbols</th>\n",
       "      <th>GOOG</th>\n",
       "      <th>MSFT</th>\n",
       "    </tr>\n",
       "  </thead>\n",
       "  <tbody>\n",
       "    <tr>\n",
       "      <th>2020-01-31</th>\n",
       "      <td>71.711502</td>\n",
       "      <td>170.229996</td>\n",
       "    </tr>\n",
       "    <tr>\n",
       "      <th>2020-02-29</th>\n",
       "      <td>71.711502</td>\n",
       "      <td>170.229996</td>\n",
       "    </tr>\n",
       "    <tr>\n",
       "      <th>2020-03-31</th>\n",
       "      <td>58.140499</td>\n",
       "      <td>157.710007</td>\n",
       "    </tr>\n",
       "    <tr>\n",
       "      <th>2020-04-30</th>\n",
       "      <td>67.432999</td>\n",
       "      <td>179.210007</td>\n",
       "    </tr>\n",
       "    <tr>\n",
       "      <th>2020-05-31</th>\n",
       "      <td>67.432999</td>\n",
       "      <td>179.210007</td>\n",
       "    </tr>\n",
       "  </tbody>\n",
       "</table>\n",
       "</div>"
      ],
      "text/plain": [
       "Symbols          GOOG        MSFT\n",
       "2020-01-31  71.711502  170.229996\n",
       "2020-02-29  71.711502  170.229996\n",
       "2020-03-31  58.140499  157.710007\n",
       "2020-04-30  67.432999  179.210007\n",
       "2020-05-31  67.432999  179.210007"
      ]
     },
     "execution_count": 24,
     "metadata": {},
     "output_type": "execute_result"
    }
   ],
   "source": [
    "close.head()"
   ]
  },
  {
   "cell_type": "code",
   "execution_count": 30,
   "id": "92c9cd8c",
   "metadata": {},
   "outputs": [],
   "source": [
    "google = close.loc[:, 'GOOG']\n",
    "msft = close.loc[:, 'MSFT']"
   ]
  },
  {
   "cell_type": "code",
   "execution_count": 33,
   "id": "9d99549b",
   "metadata": {},
   "outputs": [
    {
     "data": {
      "text/plain": [
       "[<matplotlib.lines.Line2D at 0x1b26b766ac0>]"
      ]
     },
     "execution_count": 33,
     "metadata": {},
     "output_type": "execute_result"
    },
    {
     "data": {
      "image/png": "[encoded data removed]",
      "text/plain": [
       "<Figure size 432x288 with 1 Axes>"
      ]
     },
     "metadata": {
      "needs_background": "light"
     },
     "output_type": "display_data"
    }
   ],
   "source": [
    "plt.plot(google.index, google)"
   ]
  },
  {
   "cell_type": "code",
   "execution_count": 34,
   "id": "6f633ca2",
   "metadata": {},
   "outputs": [
    {
     "data": {
      "text/plain": [
       "[<matplotlib.lines.Line2D at 0x1b26b9a68b0>]"
      ]
     },
     "execution_count": 34,
     "metadata": {},
     "output_type": "execute_result"
    },
    {
     "data": {
      "image/png": "[encoded data removed]",
      "text/plain": [
       "<Figure size 432x288 with 1 Axes>"
      ]
     },
     "metadata": {
      "needs_background": "light"
     },
     "output_type": "display_data"
    }
   ],
   "source": [
    "plt.plot(msft.index,msft)"
   ]
  },
  {
   "cell_type": "code",
   "execution_count": null,
   "id": "e04f53eb",
   "metadata": {},
   "outputs": [],
   "source": []
  }
 ],
 "metadata": {
  "kernelspec": {
   "display_name": "Python 3 (ipykernel)",
   "language": "python",
   "name": "python3"
  },
  "language_info": {
   "codemirror_mode": {
    "name": "ipython",
    "version": 3
   },
   "file_extension": ".py",
   "mimetype": "text/x-python",
   "name": "python",
   "nbconvert_exporter": "python",
   "pygments_lexer": "ipython3",
   "version": "3.9.12"
  }
 },
 "nbformat": 4,
 "nbformat_minor": 5
}
